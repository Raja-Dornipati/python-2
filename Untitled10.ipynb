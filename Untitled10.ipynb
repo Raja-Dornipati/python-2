{
 "cells": [
  {
   "cell_type": "markdown",
   "metadata": {},
   "source": [
    "* [1,2,3,4,5] - [1,4,3,16,5] (Consider only even number and square of it)\n",
    "* [15,19,12,16,4] - [15,34,31,28,4] (Need to add previous number to current number)"
   ]
  },
  {
   "cell_type": "code",
   "execution_count": 2,
   "metadata": {},
   "outputs": [
    {
     "name": "stdout",
     "output_type": "stream",
     "text": [
      "[1, 4, 3, 16, 5]\n"
     ]
    }
   ],
   "source": [
    "lst=[1,2,3,4,5]\n",
    "for i in range(1,len(lst)):\n",
    "    if i%2!=0:\n",
    "        lst[i]=lst[i]**2\n",
    "        \n",
    "print(lst)\n"
   ]
  },
  {
   "cell_type": "code",
   "execution_count": 5,
   "metadata": {},
   "outputs": [
    {
     "name": "stdout",
     "output_type": "stream",
     "text": [
      "[15, 34, 46, 62, 66]\n"
     ]
    }
   ],
   "source": [
    "lst=[15,19,12,16,4]\n",
    "for i in range(1,len(lst)):\n",
    "    lst[i]=lst[i]+lst[i-1]\n",
    "    \n",
    "print(lst)    "
   ]
  },
  {
   "cell_type": "code",
   "execution_count": null,
   "metadata": {},
   "outputs": [],
   "source": []
  }
 ],
 "metadata": {
  "kernelspec": {
   "display_name": "Python 3",
   "language": "python",
   "name": "python3"
  },
  "language_info": {
   "codemirror_mode": {
    "name": "ipython",
    "version": 3
   },
   "file_extension": ".py",
   "mimetype": "text/x-python",
   "name": "python",
   "nbconvert_exporter": "python",
   "pygments_lexer": "ipython3",
   "version": "3.6.5"
  }
 },
 "nbformat": 4,
 "nbformat_minor": 2
}
